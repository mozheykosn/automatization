{
 "cells": [
  {
   "cell_type": "markdown",
   "id": "59d86849",
   "metadata": {},
   "source": [
    "# ANALYSIS OF USER INTERACTION WITH ARTICLE CARDS"
   ]
  },
  {
   "cell_type": "markdown",
   "id": "78a67977",
   "metadata": {},
   "source": [
    "**Project** - Yandex.Dzen article portal.\n",
    "**Objective** - automate the analysis of user interaction with article cards for managers.\n",
    "\n",
    "Each card is defined by its topic and source (which also has a topic). Examples of topics: \"Beauty and Health,\" \"Russia,\" \"Travel.\" Users of the system are characterized by age categories. For example, \"26-30\" or \"45+.\"\n",
    "\n",
    "Let's answer the following questions:\n",
    " - How many user interactions with cards occur in the system, broken down by card topics?\n",
    " - How many cards do sources generate with different topics?\n",
    " - How do the topics of cards relate to the topics of sources?"
   ]
  },
  {
   "cell_type": "markdown",
   "id": "4cf6a6de",
   "metadata": {},
   "source": [
    "Let's establish a connection to the database and take a look at the table:"
   ]
  },
  {
   "cell_type": "code",
   "execution_count": 2,
   "id": "9c2654ac",
   "metadata": {},
   "outputs": [
    {
     "name": "stdout",
     "output_type": "stream",
     "text": [
      "          item_topic source_topic age_segment                  dt  visits\n",
      "record_id                                                                \n",
      "1040597       Деньги         Авто       18-25 2019-09-24 18:32:00       3\n",
      "1040598       Деньги         Авто       18-25 2019-09-24 18:35:00       1\n",
      "1040599       Деньги         Авто       18-25 2019-09-24 18:54:00       4\n",
      "1040600       Деньги         Авто       18-25 2019-09-24 18:55:00      17\n",
      "1040601       Деньги         Авто       18-25 2019-09-24 18:56:00      27\n",
      "1040602       Деньги         Авто       18-25 2019-09-24 18:57:00      22\n",
      "1040603       Деньги         Авто       18-25 2019-09-24 18:58:00      24\n",
      "1040604       Деньги         Авто       18-25 2019-09-24 18:59:00      20\n",
      "1040605       Деньги         Авто       18-25 2019-09-24 19:00:00       5\n",
      "1040606       Деньги         Авто       26-30 2019-09-24 18:29:00       1\n"
     ]
    }
   ],
   "source": [
    "#!/usr/bin/python\n",
    "# -*- coding: utf-8 -*-\n",
    "\n",
    "# импортируем библиотеки\n",
    "import pandas as pd\n",
    "from sqlalchemy import create_engine\n",
    "\n",
    "db_config = {'user': 'praktikum_student', # имя пользователя\n",
    "            'pwd': 'Sdf4$2;d-d30pp', # пароль\n",
    "            'host': 'rc1b-wcoijxj3yxfsf3fs.mdb.yandexcloud.net',\n",
    "            'port': 6432, # порт подключения\n",
    "            'db': 'data-analyst-zen-project-db'} # название базы данных\n",
    "\n",
    "connection_string = 'postgresql://{}:{}@{}:{}/{}'.format(db_config['user'],\n",
    "                                                db_config['pwd'],\n",
    "                                                db_config['host'],\n",
    "                                                db_config['port'],\n",
    "                                                db_config['db'])\n",
    "\n",
    "engine = create_engine(connection_string)\n",
    "\n",
    "# Формируем sql-запрос.\n",
    "query = ''' SELECT *\n",
    "            FROM dash_visits\n",
    "        '''\n",
    "dash_visits = pd.io.sql.read_sql(query, con=engine, index_col='record_id')\n",
    "\n",
    "print(dash_visits.head(10))"
   ]
  },
  {
   "cell_type": "markdown",
   "id": "da10f6c5",
   "metadata": {},
   "source": [
    "Here is the structure:\n",
    " - record_id - primary key,\n",
    " - item_topic - card topic,\n",
    " - source_topic - source topic,\n",
    " - age_segment - age segment,\n",
    " - dt - date and time,\n",
    " - visits - number of events."
   ]
  },
  {
   "cell_type": "markdown",
   "id": "a739254c",
   "metadata": {},
   "source": [
    "Let's extract the dataset."
   ]
  },
  {
   "cell_type": "code",
   "execution_count": 3,
   "id": "e543bf5c",
   "metadata": {},
   "outputs": [],
   "source": [
    "# Экспорт DataFrame в CSV файл\n",
    "dash_visits.to_csv('dash_visits.csv', index=False)"
   ]
  },
  {
   "cell_type": "markdown",
   "id": "638a7f3d",
   "metadata": {},
   "source": [
    "Link to the dashboard:"
   ]
  },
  {
   "cell_type": "markdown",
   "id": "cca910e4",
   "metadata": {},
   "source": [
    "https://public.tableau.com/app/profile/snezhana.mozheyko/viz/YandexPracticum_16819235839160/Dashboard3#1"
   ]
  },
  {
   "cell_type": "markdown",
   "id": "387d772d",
   "metadata": {},
   "source": [
    "Link to the presentation and conclusions:"
   ]
  },
  {
   "cell_type": "markdown",
   "id": "d0d5aebf",
   "metadata": {},
   "source": [
    "https://drive.google.com/file/d/1FzyzwvM-p6msJ_QC9tItIvm-ugAkzwBL/view?usp=sharing"
   ]
  }
 ],
 "metadata": {
  "kernelspec": {
   "display_name": "Python 3 (ipykernel)",
   "language": "python",
   "name": "python3"
  },
  "language_info": {
   "codemirror_mode": {
    "name": "ipython",
    "version": 3
   },
   "file_extension": ".py",
   "mimetype": "text/x-python",
   "name": "python",
   "nbconvert_exporter": "python",
   "pygments_lexer": "ipython3",
   "version": "3.9.13"
  },
  "toc": {
   "base_numbering": 1,
   "nav_menu": {},
   "number_sections": true,
   "sideBar": true,
   "skip_h1_title": false,
   "title_cell": "Table of Contents",
   "title_sidebar": "Contents",
   "toc_cell": false,
   "toc_position": {},
   "toc_section_display": true,
   "toc_window_display": true
  }
 },
 "nbformat": 4,
 "nbformat_minor": 5
}
